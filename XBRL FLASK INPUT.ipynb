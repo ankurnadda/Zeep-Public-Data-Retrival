{
 "cells": [
  {
   "cell_type": "markdown",
   "metadata": {},
   "source": [
    "<H1>Script to Retrieve Data from Call Reports<H1>"
   ]
  },
  {
   "cell_type": "markdown",
   "metadata": {},
   "source": [
    "<b>Required Libraries:</b><br>\n",
    "Zeep (Python SOAP client based on lxml / requests)<br>\n",
    "Beautiful Soap (Python library for pulling data out of HTML and XML files)<br>\n",
    "Flask (extensible web microframework for building web applications with Python)<br>\n",
    "Pandas (data structures and data analysis tools for the Python programming)<br>\n",
    "Requests (Send and request data over HTTP)<br>"
   ]
  },
  {
   "cell_type": "code",
   "execution_count": 19,
   "metadata": {},
   "outputs": [],
   "source": [
    "from flask import Flask, render_template, flash, request\n",
    "from wtforms import Form, TextField, TextAreaField, validators, StringField, SubmitField\n",
    "from datetime import datetime\n",
    "import pandas as pd\n",
    "from bs4 import BeautifulSoup\n",
    "import requests \n",
    "from zeep import Client, settings\n",
    "from zeep.wsse.username import UsernameToken"
   ]
  },
  {
   "cell_type": "markdown",
   "metadata": {},
   "source": [
    "<b>User Token Required to with Web Services Description Language</b>"
   ]
  },
  {
   "cell_type": "code",
   "execution_count": 2,
   "metadata": {},
   "outputs": [],
   "source": [
    "response = requests.get(\"https://cdr.ffiec.gov/public/ManageFacsimiles.aspx\")\n",
    "client = Client('https://cdr.ffiec.gov/Public/PWS/WebServices/RetrievalService.asmx?WSDL', wsse=UsernameToken('ankur_sia', 'JACWhNKORrQ7ZcPOo1oL'))"
   ]
  },
  {
   "cell_type": "markdown",
   "metadata": {},
   "source": [
    "<b>Function to check response and user access with website</b>"
   ]
  },
  {
   "cell_type": "code",
   "execution_count": 3,
   "metadata": {},
   "outputs": [],
   "source": [
    "def response_status():\n",
    "    status_code = response.status_code\n",
    "    if (status_code==200 and client.service.TestUserAccess()==True):\n",
    "        return(\"Response is working and Connection SetUp\")\n",
    "    else:\n",
    "        return(\"Error, page not found or Issue with authentication\")"
   ]
  },
  {
   "cell_type": "markdown",
   "metadata": {},
   "source": [
    "<b>Function to get raw report in XBRL format from the web service</b>"
   ]
  },
  {
   "cell_type": "code",
   "execution_count": 4,
   "metadata": {},
   "outputs": [],
   "source": [
    "def get_report(report_date, ID_RSSD):\n",
    "    try:\n",
    "        resp = client.service.RetrieveFacsimile('Call', report_date, 'ID_RSSD', ID_RSSD, 'XBRL')\n",
    "        xbrl_str = resp.decode('utf-8')\n",
    "        return xbrl_str\n",
    "    except:\n",
    "        return (\"Error\")\n",
    "   \n"
   ]
  },
  {
   "cell_type": "code",
   "execution_count": 5,
   "metadata": {},
   "outputs": [],
   "source": [
    "# def get_report(report_date, ID_RSSD):\n",
    "#     resp = client.service.RetrieveFacsimile('Call', report_date, 'ID_RSSD', ID_RSSD, 'XBRL')\n",
    "#     print(resp)\n",
    "#     xbrl_str = resp.decode('utf-8')\n",
    "#     return xbrl_str"
   ]
  },
  {
   "cell_type": "code",
   "execution_count": 6,
   "metadata": {},
   "outputs": [],
   "source": [
    "#get_report(\"06-30-2019\", 49740)"
   ]
  },
  {
   "cell_type": "markdown",
   "metadata": {},
   "source": [
    "<b>Function to clean raw report using Beautiful Soup</b>"
   ]
  },
  {
   "cell_type": "code",
   "execution_count": 7,
   "metadata": {},
   "outputs": [],
   "source": [
    "def report_clean(report_var):\n",
    "    soup = BeautifulSoup(report_var)\n",
    "    return soup"
   ]
  },
  {
   "cell_type": "markdown",
   "metadata": {},
   "source": [
    "<b>Function to get specific information from call reports</b>"
   ]
  },
  {
   "cell_type": "code",
   "execution_count": 8,
   "metadata": {},
   "outputs": [],
   "source": [
    "def get_specefic_codes(lst, rpt):\n",
    "    values_store = []\n",
    "    err = 404\n",
    "    for i in enumerate(lst):\n",
    "        out = rpt.find(i)\n",
    "        if(out==None):\n",
    "            return err\n",
    "            break\n",
    "        temp = out.decode_contents()\n",
    "        values_store.append(temp)\n",
    "    return values_store"
   ]
  },
  {
   "cell_type": "markdown",
   "metadata": {},
   "source": [
    "<b>Requested Codes</b>"
   ]
  },
  {
   "cell_type": "code",
   "execution_count": 9,
   "metadata": {},
   "outputs": [],
   "source": [
    "# Apple_Bank = 249612\n",
    "# TD_Bank = 497404\n",
    "# rep_codes = [\"cc:rcfdf159\", \"cc:rcfd1460\", \"cc:rcfdf161\",\n",
    "#             \"cc:rconf175\", \"cc:rcon3500\", \"cc:rconf181\",\n",
    "#              \"cc:rconf177\", \"cc:rcon3501\", \"cc:rconf183\", \n",
    "#              \"cc:riadc893\", \"cc:riad3588\",\"cc:riadc897\",\n",
    "#             \"cc:riadc894\", \"cc:riad3589\", \"cc:riadc898\"] \n",
    "            \n",
    "rep_codes =      [\"cc:rconf159\", \"cc:rcon1460\", \"cc:rconf161\", \n",
    "                \"cc:rconf175\", \"cc:rcon3500\", \"cc:rconf181\",\n",
    "              \"cc:rconf177\", \"cc:rcon3501\", \"cc:rconf183\", \n",
    "              \"cc:riadc893\", \"cc:riad3588\",\"cc:riadc897\",\n",
    "             \"cc:riadc894\", \"cc:riad3589\", \"cc:riadc898\"]"
   ]
  },
  {
   "cell_type": "code",
   "execution_count": 10,
   "metadata": {},
   "outputs": [],
   "source": [
    "# report_bank = get_report(\"06-30-2019\", 3918898)\n",
    "# report_bank_clean = report_clean(report_bank)\n",
    "# bank_values = get_specefic_codes(rep_codes,report_bank_clean)\n",
    "# if (bank_values==404):\n",
    "#     df1 = pd.DataFrame([bank_values], columns=[\"ERROR WITH REPORT CODES\"])\n",
    "# else:\n",
    "#     df1 = pd.DataFrame([bank_values], columns=[\n",
    "#             \"cc:rconf175\", \"cc:rcon3500\", \"cc:rconf181\",\n",
    "#              \"cc:rconf177\", \"cc:rcon3501\", \"cc:rconf183\", \n",
    "#              \"cc:riadc893\", \"cc:riad3588\",\"cc:riadc897\",\n",
    "#             \"cc:riadc894\", \"cc:riad3589\", \"cc:riadc898\"]  )\n",
    "# print(df1)"
   ]
  },
  {
   "cell_type": "code",
   "execution_count": 11,
   "metadata": {},
   "outputs": [],
   "source": [
    "def results(date, i):\n",
    "    report_bank = get_report(date, i )\n",
    "    report_bank_clean = report_clean(report_bank)\n",
    "    bank_values = get_specefic_codes(rep_codes,report_bank_clean)\n",
    "    if (bank_values==404):\n",
    "        df = pd.DataFrame([\"!!!***********!!!\"], columns=[\"ERROR WITH REPORT CODES OR BANK ID OR DATE\"])\n",
    "        return(df)\n",
    "    else:\n",
    "#         df = pd.DataFrame([bank_values], columns=[\"cc:rcfdf159\", \"cc:rcfd1460\", \"cc:rcfdf161\",\n",
    "#             \"cc:rconf175\", \"cc:rcon3500\", \"cc:rconf181\",\n",
    "#              \"cc:rconf177\", \"cc:rcon3501\", \"cc:rconf183\", \n",
    "#              \"cc:riadc893\", \"cc:riad3588\",\"cc:riadc897\",\n",
    "#             \"cc:riadc894\", \"cc:riad3589\", \"cc:riadc898\"]  )\n",
    "        df = pd.DataFrame([bank_values], columns=[\"cc:rconf159\", \"cc:rcon1460\", \"cc:rconf161\",\n",
    "             \"cc:rconf175\", \"cc:rcon3500\", \"cc:rconf181\",\n",
    "              \"cc:rconf177\", \"cc:rcon3501\", \"cc:rconf183\", \n",
    "              \"cc:riadc893\", \"cc:riad3588\",\"cc:riadc897\",\n",
    "             \"cc:riadc894\", \"cc:riad3589\", \"cc:riadc898\"]  )\n",
    "        \n",
    "        return(df)\n",
    "        "
   ]
  },
  {
   "cell_type": "code",
   "execution_count": 12,
   "metadata": {},
   "outputs": [],
   "source": [
    "#results(\"06-30-2019\", 3918898)"
   ]
  },
  {
   "cell_type": "code",
   "execution_count": 13,
   "metadata": {},
   "outputs": [],
   "source": [
    "app = Flask(__name__)\n",
    "\n"
   ]
  },
  {
   "cell_type": "code",
   "execution_count": 14,
   "metadata": {},
   "outputs": [],
   "source": [
    "# @app.route(\"/\")\n",
    "# def index():\n",
    "#     ID = request.args['input']\n",
    "#     Date = request.args['date']\n",
    "#     return \"\"\"\n",
    "#         <html><body>\n",
    "#              <h1>Bank_ID {0}!</h1>\n",
    "#              <h2>Date is {1}</h2>\n",
    "#              Result is {2}.\n",
    "#          </body></html>\n",
    "#         \"\"\".format(ID, Date, results(Date, ID))\n",
    "    \n",
    "\n",
    "\n",
    "\n"
   ]
  },
  {
   "cell_type": "code",
   "execution_count": 15,
   "metadata": {},
   "outputs": [],
   "source": [
    "app = Flask(__name__)\n",
    "\n",
    "@app.route('/')\n",
    " \n",
    "def home():\n",
    "     return \"\"\"\n",
    "         <html><body>\n",
    "             <h2>Retrive Call report</h2><br><br>\n",
    "             <form action=\"/ans\">\n",
    "                 Bank ID <input type='text' name='ID'><br><br>\n",
    "                 Bank Name <select name=\"bank_name\" disabled><br><br>\n",
    "                  <option value=\"CIT_Bank\">CIT_Bank</option>\n",
    "                  <option value=\"DB_Bank\">DB_Bank</option>\n",
    "                  <option value=\"M_T_Bank\">M_T_Bank</option>\n",
    "                  <option value=\"NY_Com_Bank\">NY_Com_Bank</option>\n",
    "                  <option value=\"Pac_west_Bank\">Pac_west_Bank</option>\n",
    "                  <option value=\"Sign_Bank\">Sign_Bank</option>\n",
    "                  <option value=\"East_West_Bank\">East_West_Bank</option>\n",
    "                  <option value=\"OZK_Bank\">OZK_Bank</option>\n",
    "                </select><br><br>\n",
    "                 Date <input type=\"date\" name='Date'><br><br>\n",
    "                 <input type='submit' value='Continue'>\n",
    "             </form>\n",
    "         </body></html>\n",
    "         \"\"\"\n",
    "\n"
   ]
  },
  {
   "cell_type": "code",
   "execution_count": 16,
   "metadata": {},
   "outputs": [],
   "source": [
    "@app.route('/ans')\n",
    "def index():\n",
    "    ID = request.args['ID']\n",
    "    Date = request.args['Date']\n",
    "    res = results(Date, ID).to_html(header=\"true\", table_id=\"table\", index=False)\n",
    "    #print(res)\n",
    "    return \"\"\"\n",
    "        <html><body>\n",
    "             <h1>Bank_ID {0}</h1>\n",
    "             <h2>Date is {1}</h2>\n",
    "             <h2>Result is </h2> \n",
    "             <h3>{2}</h3>\n",
    "         </body></html>\n",
    "        \"\"\".format(ID, Date,res)\n"
   ]
  },
  {
   "cell_type": "code",
   "execution_count": 17,
   "metadata": {},
   "outputs": [],
   "source": [
    "# @app.route('/download')\n",
    "# def download():\n",
    "#     ID = request.args['ID']\n",
    "#     Date = request.args['Date']\n",
    "#     res = results(Date, ID).to_html(header=\"true\", table_id=\"table\", index=False)\n",
    "#     resp = make_response(res.to_csv())\n",
    "#     resp.headers[\"Content-Disposition\"] = \"attachment; filename=export.csv\"\n",
    "#     resp.headers[\"Content-Type\"] = \"text/csv\"\n",
    "#     return (resp)\n",
    "    \n"
   ]
  },
  {
   "cell_type": "code",
   "execution_count": 18,
   "metadata": {},
   "outputs": [
    {
     "name": "stdout",
     "output_type": "stream",
     "text": [
      " * Serving Flask app \"__main__\" (lazy loading)\n",
      " * Environment: production\n",
      "   WARNING: Do not use the development server in a production environment.\n",
      "   Use a production WSGI server instead.\n",
      " * Debug mode: off\n"
     ]
    },
    {
     "name": "stderr",
     "output_type": "stream",
     "text": [
      " * Running on http://127.0.0.1:5000/ (Press CTRL+C to quit)\n",
      "127.0.0.1 - - [07/Nov/2019 17:36:26] \"\u001b[37mGET / HTTP/1.1\u001b[0m\" 200 -\n",
      "127.0.0.1 - - [07/Nov/2019 17:36:43] \"\u001b[37mGET /ans?ID=497404&Date=2019-10-30 HTTP/1.1\u001b[0m\" 200 -\n",
      "127.0.0.1 - - [07/Nov/2019 17:37:01] \"\u001b[37mGET /ans?ID=497404&Date=2017-12-31 HTTP/1.1\u001b[0m\" 200 -\n",
      "127.0.0.1 - - [07/Nov/2019 17:37:16] \"\u001b[37mGET /ans?ID=497404&Date=2017-12-31 HTTP/1.1\u001b[0m\" 200 -\n",
      "127.0.0.1 - - [07/Nov/2019 17:37:44] \"\u001b[37mGET / HTTP/1.1\u001b[0m\" 200 -\n",
      "127.0.0.1 - - [07/Nov/2019 17:38:55] \"\u001b[37mGET /ans?ID=497404&Date=2019-09-30 HTTP/1.1\u001b[0m\" 200 -\n"
     ]
    }
   ],
   "source": [
    "if __name__ == \"__main__\":\n",
    "    app.run(debug=False)"
   ]
  },
  {
   "cell_type": "code",
   "execution_count": null,
   "metadata": {},
   "outputs": [],
   "source": []
  },
  {
   "cell_type": "code",
   "execution_count": null,
   "metadata": {},
   "outputs": [],
   "source": []
  }
 ],
 "metadata": {
  "kernelspec": {
   "display_name": "Python 3",
   "language": "python",
   "name": "python3"
  },
  "language_info": {
   "codemirror_mode": {
    "name": "ipython",
    "version": 3
   },
   "file_extension": ".py",
   "mimetype": "text/x-python",
   "name": "python",
   "nbconvert_exporter": "python",
   "pygments_lexer": "ipython3",
   "version": "3.7.1"
  }
 },
 "nbformat": 4,
 "nbformat_minor": 2
}
